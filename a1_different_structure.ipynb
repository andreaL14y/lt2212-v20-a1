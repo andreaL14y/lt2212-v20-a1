{
 "cells": [
  {
   "cell_type": "code",
   "execution_count": 4,
   "metadata": {},
   "outputs": [
    {
     "name": "stdout",
     "output_type": "stream",
     "text": [
      "AxesSubplot(0.125,0.125;0.775x0.755)\n",
      "AxesSubplot(0.125,0.125;0.775x0.755)\n"
     ]
    },
    {
     "data": {
      "image/png": "[encoded data removed]",
      "text/plain": [
       "<Figure size 432x288 with 1 Axes>"
      ]
     },
     "metadata": {
      "needs_background": "light"
     },
     "output_type": "display_data"
    },
    {
     "data": {
      "image/png": "[encoded data removed]",
      "text/plain": [
       "<Figure size 432x288 with 1 Axes>"
      ]
     },
     "metadata": {
      "needs_background": "light"
     },
     "output_type": "display_data"
    }
   ],
   "source": [
    "# %load get_words\n",
    "import os\n",
    "from os import walk\n",
    "from os.path import join\n",
    "import re\n",
    "import pandas as pd\n",
    "import numpy as np\n",
    "import math \n",
    "import numpy.random as npr\n",
    "\n",
    "\n",
    "def get_files(folder1, folder2):\n",
    "    f = []\n",
    "    for (root, dirnames, _) in walk('.'):\n",
    "        for dirname in dirnames:\n",
    "            if dirname == folder1 or dirname == folder2:\n",
    "                subfolder = os.path.join(root, dirname)\n",
    "                for (_, _, filenames) in walk(subfolder):\n",
    "                    for filename in filenames:\n",
    "                        f.append(os.path.join(subfolder, filename))\n",
    "    return f\n",
    "\n",
    "\n",
    "def get_words(path):\n",
    "    with open(path, 'r') as article:\n",
    "        content = article.read().lower()\n",
    "        words = content.split()\n",
    "        filtered = [x for x in words if re.match('[a-z]+', x)] # alternative: x.isalpha\n",
    "        return filtered\n",
    "\n",
    "def get_word_counts(words):\n",
    "    word_counts = {}\n",
    "    unique_words = set(words)\n",
    "    for word in unique_words:\n",
    "        word_counts[word] = words.count(word)\n",
    "    return word_counts\n",
    "\n",
    "all_files = get_files('grain', 'crude')\n",
    "all_words=[]\n",
    "for article in all_files:\n",
    "    words = get_words(article)\n",
    "    word_counts=get_word_counts(words)\n",
    "    all_words.append(word_counts)\n",
    "\n",
    "all_subfolders=[] \n",
    "folder1='crude'\n",
    "folder2='grain'\n",
    "for (root, dirnames, f1) in walk('.'): #if grain/crude are in same directory as code, otherwise change expression in 'walk'\n",
    "    for dirname in dirnames:\n",
    "        if dirname == folder1 or dirname == folder2: \n",
    "            subfolder = os.path.join(root, dirname)\n",
    "            for (d2, d3, filenames) in walk(subfolder):\n",
    "                for filename in filenames:\n",
    "                    all_subfolders.append(subfolder.split('\\\\')[1])\n",
    "\n",
    "arrays = [np.asarray(all_files), np.asarray(all_subfolders)]\n",
    "idx = pd.MultiIndex.from_arrays(arrays, names=('article_name', 'folder_name'))\n",
    "df = pd.DataFrame(all_words, index=idx)\n",
    "df = df.fillna(0)\n",
    "df_sum = df.sum()  #global wordcount \n",
    "\n",
    "# delete columns where words occur less than n times in df\n",
    "n=1\n",
    "for key, value in df_sum.items():\n",
    "    if value < n:\n",
    "        del df[key]\n",
    "\n",
    "##### PART 2 ######\n",
    "df_folders = df.sum(level='folder_name') # wordcount per folder\n",
    "df_top_n = df_sum.nlargest(n=10) #n most used words\n",
    "\n",
    "word_index = []\n",
    "crude = []\n",
    "grain = []\n",
    "for key, value in df_top_n.items():\n",
    "    word_index.append(key)\n",
    "    crude.append(df_folders[key][0])\n",
    "    grain.append(df_folders[key][1])\n",
    "\n",
    "df_plot = pd.DataFrame({'crude': crude, 'grain': grain}, index=word_index)\n",
    "plot = df_plot.plot.bar(rot=0)\n",
    "\n",
    "##### PART 3\n",
    "df_tfidf = df.copy()\n",
    "N = df_tfidf.shape[0] # total amount of documents, alternative: len(df.index)\n",
    "K = df_tfidf.shape[1] # total amount of articles\n",
    "d = (df > 0).sum(axis=0) # amount of articles which contain the word\n",
    "\n",
    "k=0\n",
    "while k < K: #iterates through every column in df\n",
    "    a = 0\n",
    "    while a < N: # iterates through every row in df\n",
    "        if df_tfidf.iat[a, k] != 0:\n",
    "            df_tfidf.iat[a, k] = df_tfidf.iat[a, k] * math.log(N/d[k]) #change value in row a, column k to tfidf value\n",
    "        a=a+1\n",
    "    k=k+1\n",
    "\n",
    "#### PART 4\n",
    "df_tfidf_sum = df_tfidf.sum()\n",
    "df_tfidf_folders = df_tfidf.sum(level='folder_name') # wordcount per folder\n",
    "df_tfidf_top_n = df_tfidf_sum.nlargest(n=10) #n most used words\n",
    "\n",
    "word_index_tfidf = []\n",
    "crude_tfidf = []\n",
    "grain_tfidf = []\n",
    "for key, value in df_tfidf_top_n.items():\n",
    "     word_index_tfidf.append(key)\n",
    "     crude_tfidf.append(df_folders[key][0])\n",
    "     grain_tfidf.append(df_folders[key][1])\n",
    "\n",
    "df_tfidf_plot = pd.DataFrame({'crude tfidf': crude_tfidf, 'grain tfidf': grain_tfidf}, index=word_index_tfidf)\n",
    "plot_tfidf = df_tfidf_plot.plot.bar(rot=0)\n",
    "\n",
    "print(plot)\n",
    "print(plot_tfidf)"
   ]
  },
  {
   "cell_type": "code",
   "execution_count": null,
   "metadata": {},
   "outputs": [],
   "source": []
  }
 ],
 "metadata": {
  "kernelspec": {
   "display_name": "Python 3",
   "language": "python",
   "name": "python3"
  },
  "language_info": {
   "codemirror_mode": {
    "name": "ipython",
    "version": 3
   },
   "file_extension": ".py",
   "mimetype": "text/x-python",
   "name": "python",
   "nbconvert_exporter": "python",
   "pygments_lexer": "ipython3",
   "version": "3.7.4"
  }
 },
 "nbformat": 4,
 "nbformat_minor": 2
}
